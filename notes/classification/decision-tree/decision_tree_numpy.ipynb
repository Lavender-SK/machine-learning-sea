{
 "cells": [
  {
   "cell_type": "markdown",
   "metadata": {},
   "source": [
    "### 1. 创建数据集"
   ]
  },
  {
   "cell_type": "markdown",
   "metadata": {},
   "source": [
    "#### 1.1 周志华-机器学习-西瓜数据集2.0"
   ]
  },
  {
   "cell_type": "code",
   "execution_count": 1,
   "metadata": {},
   "outputs": [],
   "source": [
    "data_text = \"\"\"\n",
    "编号,色泽,根蒂,敲声,纹理,脐部,触感,好瓜\n",
    "1,青绿,蜷缩,浊响,清晰,凹陷,硬滑,是\n",
    "2,乌黑,蜷缩,沉闷,清晰,凹陷,硬滑,是\n",
    "3,乌黑,蜷缩,浊响,清晰,凹陷,硬滑,是\n",
    "4,青绿,蜷缩,沉闷,清晰,凹陷,硬滑,是\n",
    "5,浅白,蜷缩,浊响,清晰,凹陷,硬滑,是\n",
    "6,青绿,稍蜷,浊响,清晰,稍凹,软粘,是\n",
    "7,乌黑,稍蜷,浊响,稍糊,稍凹,软粘,是\n",
    "8,乌黑,稍蜷,浊响,清晰,稍凹,硬滑,是\n",
    "9,乌黑,稍蜷,沉闷,稍糊,稍凹,硬滑,否\n",
    "10,青绿,硬挺,清脆,清晰,平坦,软粘,否\n",
    "11,浅白,硬挺,清脆,模糊,平坦,硬滑,否\n",
    "12,浅白,蜷缩,浊响,模糊,平坦,软粘,否\n",
    "13,青绿,稍蜷,浊响,稍糊,凹陷,硬滑,否\n",
    "14,浅白,稍蜷,沉闷,稍糊,凹陷,硬滑,否\n",
    "15,乌黑,稍蜷,浊响,清晰,稍凹,软粘,否\n",
    "16,浅白,蜷缩,浊响,模糊,平坦,硬滑,否\n",
    "17,青绿,蜷缩,沉闷,稍糊,稍凹,硬滑,否\n",
    "\"\"\""
   ]
  },
  {
   "cell_type": "code",
   "execution_count": 8,
   "metadata": {},
   "outputs": [
    {
     "name": "stdout",
     "output_type": "stream",
     "text": [
      "[['青绿', '蜷缩', '浊响', '清晰', '凹陷', '硬滑'], ['乌黑', '蜷缩', '沉闷', '清晰', '凹陷', '硬滑'], ['乌黑', '蜷缩', '浊响', '清晰', '凹陷', '硬滑'], ['青绿', '蜷缩', '沉闷', '清晰', '凹陷', '硬滑'], ['浅白', '蜷缩', '浊响', '清晰', '凹陷', '硬滑'], ['青绿', '稍蜷', '浊响', '清晰', '稍凹', '软粘'], ['乌黑', '稍蜷', '浊响', '稍糊', '稍凹', '软粘'], ['乌黑', '稍蜷', '浊响', '清晰', '稍凹', '硬滑'], ['乌黑', '稍蜷', '沉闷', '稍糊', '稍凹', '硬滑'], ['青绿', '硬挺', '清脆', '清晰', '平坦', '软粘'], ['浅白', '硬挺', '清脆', '模糊', '平坦', '硬滑'], ['浅白', '蜷缩', '浊响', '模糊', '平坦', '软粘'], ['青绿', '稍蜷', '浊响', '稍糊', '凹陷', '硬滑'], ['浅白', '稍蜷', '沉闷', '稍糊', '凹陷', '硬滑'], ['乌黑', '稍蜷', '浊响', '清晰', '稍凹', '软粘'], ['浅白', '蜷缩', '浊响', '模糊', '平坦', '硬滑'], ['青绿', '蜷缩', '沉闷', '稍糊', '稍凹', '硬滑']]\n",
      "['是', '是', '是', '是', '是', '是', '是', '是', '否', '否', '否', '否', '否', '否', '否', '否', '否']\n"
     ]
    }
   ],
   "source": [
    "import pandas as pd\n",
    "\n",
    "data_list = data_text.split(\"\\n\")\n",
    "column_name_list = []\n",
    "data_origin_X = []\n",
    "data_origin_Y = []\n",
    "\n",
    "for inx, line in enumerate(data_list):\n",
    "    if inx == 0:\n",
    "        continue\n",
    "    if inx == 1:\n",
    "        column_name_list = line.split(\",\")[1:-1]\n",
    "        continue\n",
    "    if inx == len(data_list)-1:\n",
    "        continue\n",
    "    data_origin_X.append(line.split(\",\")[1:-1])\n",
    "    data_origin_Y.append(line.split(\",\")[-1])\n",
    "\n",
    "print(data_origin_X)\n",
    "print(data_origin_Y)"
   ]
  },
  {
   "cell_type": "markdown",
   "metadata": {},
   "source": [
    "### 2. 划分选择"
   ]
  },
  {
   "cell_type": "markdown",
   "metadata": {},
   "source": [
    "#### 2.1 信息增益"
   ]
  },
  {
   "cell_type": "markdown",
   "metadata": {},
   "source": [
    "**信息熵**"
   ]
  },
  {
   "cell_type": "code",
   "execution_count": 9,
   "metadata": {},
   "outputs": [],
   "source": [
    "import numpy as np\n",
    "from functools import reduce\n",
    "\n",
    "def ent(probabilitys):\n",
    "    \"\"\" 计算一组概率的信息熵\n",
    "    \n",
    "    arguments:\n",
    "    ---------\n",
    "    probabilitys: numpy or list\n",
    "    \n",
    "    returns:\n",
    "    --------\n",
    "    ent: 信息熵\n",
    "    \"\"\"\n",
    "    return - reduce(lambda x,y:x+y*np.log2(y), probabilitys, 0.0)"
   ]
  },
  {
   "cell_type": "markdown",
   "metadata": {},
   "source": [
    "**计算给定数据集的信息熵**"
   ]
  },
  {
   "cell_type": "code",
   "execution_count": 14,
   "metadata": {},
   "outputs": [],
   "source": [
    "import numpy as np\n",
    "from collections import Counter\n",
    "\n",
    "def EntData(X, Y):\n",
    "    \"\"\" 计算一个数据集中未划分前的信息熵\n",
    "    \n",
    "    arguments:\n",
    "    ----------\n",
    "    X: list or numpy, shape=(n_samples, n_features)\n",
    "    Y: list or numpy, shape=(n_samples, )\n",
    "    \n",
    "    returns:\n",
    "    --------\n",
    "    ent: float, entropy\n",
    "    \"\"\"\n",
    "    Y = np.array(Y)\n",
    "    counter = Counter(Y)\n",
    "    return ent([i / sum(counter.values()) for i in counter.values()])"
   ]
  },
  {
   "cell_type": "code",
   "execution_count": 13,
   "metadata": {},
   "outputs": [
    {
     "data": {
      "text/plain": [
       "0.9975025463691153"
      ]
     },
     "execution_count": 13,
     "metadata": {},
     "output_type": "execute_result"
    }
   ],
   "source": [
    "EntData(data_origin_X, data_origin_Y)"
   ]
  },
  {
   "cell_type": "markdown",
   "metadata": {},
   "source": [
    "**信息增益**"
   ]
  },
  {
   "cell_type": "code",
   "execution_count": 29,
   "metadata": {},
   "outputs": [],
   "source": [
    "import numpy as np\n",
    "\n",
    "def Gain(X, Y, feature_inx):\n",
    "    \"\"\" 计算信息增益\n",
    "    \n",
    "    根据给定的数据集，以及给定的特征下标，求解指定特征的信息增益。暂时规定特征均是离散值。\n",
    "    \n",
    "    arguments:\n",
    "    ----------\n",
    "    X: list or numpy, shape=(n_samples, n_features)\n",
    "    Y: list or numpy, shape=(n_samples,)\n",
    "    features_inx: int, the subscript of features\n",
    "    \n",
    "    returns:\n",
    "    --------\n",
    "    gain: float\n",
    "    partition: dict\n",
    "    \"\"\"\n",
    "    \n",
    "    X = np.array(X)\n",
    "    Y = np.array(Y)\n",
    "    \n",
    "    n_samples, n_features = X.shape\n",
    "    \n",
    "    # step1: 计算给定数据集的信息熵\n",
    "    data_ent = EntData(X, Y)\n",
    "    \n",
    "    # step2: 根据给定的特征下标，划分数据集 \n",
    "    set_feature_value = list(set(X[:, feature_inx]))\n",
    "    Y_partition = {}\n",
    "    for value in set_feature_value:\n",
    "        Y_partition[value] = list(np.where(X[:, feature_inx] == value)[0])\n",
    "\n",
    "    # step3: 根据公式，计算信息增益\n",
    "    gain = EntData(X, Y) - sum([(len(v) * EntData(X[v], Y[v]))/ n_samples for k,v in Y_partition.items()])\n",
    "    \n",
    "    return gain, Y_partition"
   ]
  },
  {
   "cell_type": "markdown",
   "metadata": {},
   "source": [
    "**计算每个属性的信息增益**"
   ]
  },
  {
   "cell_type": "code",
   "execution_count": 34,
   "metadata": {},
   "outputs": [
    {
     "name": "stdout",
     "output_type": "stream",
     "text": [
      "======================================================================\n",
      "色泽\n",
      "(0.10812516526536531, {'浅白': [4, 10, 11, 13, 15], '青绿': [0, 3, 5, 9, 12, 16], '乌黑': [1, 2, 6, 7, 8, 14]})\n",
      "======================================================================\n",
      "根蒂\n",
      "(0.142674959566793, {'蜷缩': [0, 1, 2, 3, 4, 11, 15, 16], '稍蜷': [5, 6, 7, 8, 12, 13, 14], '硬挺': [9, 10]})\n",
      "======================================================================\n",
      "敲声\n",
      "(0.14078143361499584, {'沉闷': [1, 3, 8, 13, 16], '浊响': [0, 2, 4, 5, 6, 7, 11, 12, 14, 15], '清脆': [9, 10]})\n",
      "======================================================================\n",
      "纹理\n",
      "(0.3805918973682686, {'模糊': [10, 11, 15], '稍糊': [6, 8, 12, 13, 16], '清晰': [0, 1, 2, 3, 4, 5, 7, 9, 14]})\n",
      "======================================================================\n",
      "脐部\n",
      "(0.28915878284167895, {'凹陷': [0, 1, 2, 3, 4, 12, 13], '稍凹': [5, 6, 7, 8, 14, 16], '平坦': [9, 10, 11, 15]})\n",
      "======================================================================\n",
      "触感\n",
      "(0.006046489176565584, {'软粘': [5, 6, 9, 11, 14], '硬滑': [0, 1, 2, 3, 4, 7, 8, 10, 12, 13, 15, 16]})\n"
     ]
    }
   ],
   "source": [
    "for inx, name in enumerate(column_name_list):\n",
    "    print(\"=\"*70)\n",
    "    print(name)\n",
    "    print(Gain(data_origin_X, data_origin_Y, inx))"
   ]
  },
  {
   "cell_type": "markdown",
   "metadata": {},
   "source": [
    "#### 2.2 增益率"
   ]
  },
  {
   "cell_type": "code",
   "execution_count": 39,
   "metadata": {},
   "outputs": [],
   "source": [
    "import numpy as np\n",
    "\n",
    "def gain_ratio(X, Y, feature_inx):\n",
    "    \"\"\" 计算增益率\n",
    "    \n",
    "    根据给定的数据集，以及给定的特征下标，求解指定特征的信息增益。暂时规定特征均是离散值。\n",
    "    \n",
    "    arguments:\n",
    "    ----------\n",
    "    X: list or numpy, shape=(n_samples, n_features)\n",
    "    Y: list or numpy, shape=(n_samples,)\n",
    "    features_inx: int, the subscript of features\n",
    "    \n",
    "    returns:\n",
    "    --------\n",
    "    gain_ratio: float\n",
    "    partition: dict\n",
    "    \"\"\"\n",
    "    \n",
    "    # step1: 整理参数，计算给定的数据的大小\n",
    "    X = np.array(X)\n",
    "    Y = np.array(Y)\n",
    "    \n",
    "    n_samples, n_features = X.shape\n",
    "    \n",
    "    # step2: 根据给定的特征下标，划分数据集 \n",
    "    set_feature_value = list(set(X[:, feature_inx]))\n",
    "    Y_partition = {}\n",
    "    for value in set_feature_value:\n",
    "        Y_partition[value] = list(np.where(X[:, feature_inx] == value)[0])\n",
    "\n",
    "    # step3: 根据公式，计算增益率\n",
    "    gain = EntData(X, Y) - sum([(len(v) * EntData(X[v], Y[v]))/ n_samples for k,v in Y_partition.items()])\n",
    "    iv = -sum((len(v) / n_samples) * np.log2(len(v) / n_samples) for k, v in Y_partition.items())\n",
    "    gain_ratio = gain / iv\n",
    "    \n",
    "    return gain_ratio, Y_partition"
   ]
  },
  {
   "cell_type": "markdown",
   "metadata": {},
   "source": [
    "**计算每个属性的增益率**"
   ]
  },
  {
   "cell_type": "code",
   "execution_count": 40,
   "metadata": {},
   "outputs": [
    {
     "name": "stdout",
     "output_type": "stream",
     "text": [
      "======================================================================\n",
      "色泽\n",
      "(0.06843956584615815, {'浅白': [4, 10, 11, 13, 15], '青绿': [0, 3, 5, 9, 12, 16], '乌黑': [1, 2, 6, 7, 8, 14]})\n",
      "======================================================================\n",
      "根蒂\n",
      "(0.10175939805373699, {'蜷缩': [0, 1, 2, 3, 4, 11, 15, 16], '稍蜷': [5, 6, 7, 8, 12, 13, 14], '硬挺': [9, 10]})\n",
      "======================================================================\n",
      "敲声\n",
      "(0.10562670944314426, {'沉闷': [1, 3, 8, 13, 16], '浊响': [0, 2, 4, 5, 6, 7, 11, 12, 14, 15], '清脆': [9, 10]})\n",
      "======================================================================\n",
      "纹理\n",
      "(0.2630853587192754, {'模糊': [10, 11, 15], '稍糊': [6, 8, 12, 13, 16], '清晰': [0, 1, 2, 3, 4, 5, 7, 9, 14]})\n",
      "======================================================================\n",
      "脐部\n",
      "(0.18672689918448793, {'凹陷': [0, 1, 2, 3, 4, 12, 13], '稍凹': [5, 6, 7, 8, 14, 16], '平坦': [9, 10, 11, 15]})\n",
      "======================================================================\n",
      "触感\n",
      "(0.0069183298534003, {'软粘': [5, 6, 9, 11, 14], '硬滑': [0, 1, 2, 3, 4, 7, 8, 10, 12, 13, 15, 16]})\n"
     ]
    }
   ],
   "source": [
    "for inx, name in enumerate(column_name_list):\n",
    "    print(\"=\"*70)\n",
    "    print(name)\n",
    "    print(gain_ratio(data_origin_X, data_origin_Y, inx))"
   ]
  },
  {
   "cell_type": "markdown",
   "metadata": {},
   "source": [
    "#### 2.3 计算基尼指数"
   ]
  },
  {
   "cell_type": "markdown",
   "metadata": {},
   "source": [
    "**基尼指数**"
   ]
  },
  {
   "cell_type": "code",
   "execution_count": 45,
   "metadata": {},
   "outputs": [],
   "source": [
    "import numpy as np\n",
    "from functools import reduce\n",
    "\n",
    "def gini(probabilitys):\n",
    "    \"\"\" 计算一组概率的基尼指数\n",
    "    \n",
    "    arguments:\n",
    "    ----------\n",
    "    probabilitys: numpy or list\n",
    "    \n",
    "    returns:\n",
    "    --------\n",
    "    gini: float 基尼指数\n",
    "    \"\"\"\n",
    "    return 1 - reduce(lambda x,y:x+y*y, probabilitys, 0.0)"
   ]
  },
  {
   "cell_type": "code",
   "execution_count": 18,
   "metadata": {},
   "outputs": [
    {
     "data": {
      "text/plain": [
       "0.6666666666666667"
      ]
     },
     "execution_count": 18,
     "metadata": {},
     "output_type": "execute_result"
    }
   ],
   "source": [
    "gini([1/3, 1/3, 1/3])"
   ]
  },
  {
   "cell_type": "markdown",
   "metadata": {},
   "source": [
    "**计算给定数据集的基尼指数**"
   ]
  },
  {
   "cell_type": "code",
   "execution_count": 44,
   "metadata": {},
   "outputs": [],
   "source": [
    "import numpy as np\n",
    "from collections import Counter\n",
    "\n",
    "def gini_data(X, Y):\n",
    "    \"\"\" 计算给定数据集的基尼指数\n",
    "    \n",
    "    arguments:\n",
    "    ----------\n",
    "    X: list or numpy, shape=(n_samples, n_features)\n",
    "    Y: list or numpy, shape=(n_samples)\n",
    "    \n",
    "    returns:\n",
    "    --------\n",
    "    gini: float gini_index\n",
    "    \"\"\"\n",
    "    \n",
    "    # step1: 整理数据并获取数据的大小\n",
    "    X = np.array(X)\n",
    "    Y = np.array(Y)\n",
    "    n_samples, n_features = X.shape\n",
    "    \n",
    "    # step2: 计算基尼指数\n",
    "    counter = Counter(Y)\n",
    "    return gini([i / sum(counter.values()) for i in counter.values()])"
   ]
  },
  {
   "cell_type": "markdown",
   "metadata": {},
   "source": [
    "**计算给定属性的基尼指数**"
   ]
  },
  {
   "cell_type": "code",
   "execution_count": 46,
   "metadata": {},
   "outputs": [],
   "source": [
    "import numpy as np\n",
    "\n",
    "def gini_index(X, Y, feature_inx):\n",
    "    \"\"\" 计算基尼指数\n",
    "    \n",
    "    根据给定的数据集，以及给定的特征下标，求解指定特征的基尼指数。暂时规定特征均是离散值。\n",
    "    \n",
    "    arguments:\n",
    "    ----------\n",
    "    X: list or numpy, shape=(n_samples, n_features)\n",
    "    Y: list or numpy, shape=(n_samples,)\n",
    "    features_inx: int, the subscript of features\n",
    "    \n",
    "    returns:\n",
    "    --------\n",
    "    gini: float\n",
    "    partition: dict\n",
    "    \"\"\"\n",
    "    \n",
    "    # step1: 整理参数，计算给定的数据的大小\n",
    "    X = np.array(X)\n",
    "    Y = np.array(Y)\n",
    "    \n",
    "    n_samples, n_features = X.shape\n",
    "    \n",
    "    # step2: 根据给定的特征下标，划分数据集 \n",
    "    set_feature_value = list(set(X[:, feature_inx]))\n",
    "    Y_partition = {}\n",
    "    for value in set_feature_value:\n",
    "        Y_partition[value] = list(np.where(X[:, feature_inx] == value)[0])\n",
    "\n",
    "    # step3: 根据公式，计算基尼指数\n",
    "    gini_index = sum([ (len(v) * gini_data(X[v], Y[v])) / n_samples for k, v in Y_partition.items()])\n",
    "    \n",
    "    return gini_index, Y_partition"
   ]
  },
  {
   "cell_type": "markdown",
   "metadata": {},
   "source": [
    "**计算每个属性的基尼指数**"
   ]
  },
  {
   "cell_type": "code",
   "execution_count": 47,
   "metadata": {},
   "outputs": [
    {
     "name": "stdout",
     "output_type": "stream",
     "text": [
      "======================================================================\n",
      "色泽\n",
      "(0.42745098039215684, {'浅白': [4, 10, 11, 13, 15], '青绿': [0, 3, 5, 9, 12, 16], '乌黑': [1, 2, 6, 7, 8, 14]})\n",
      "======================================================================\n",
      "根蒂\n",
      "(0.42226890756302526, {'蜷缩': [0, 1, 2, 3, 4, 11, 15, 16], '稍蜷': [5, 6, 7, 8, 12, 13, 14], '硬挺': [9, 10]})\n",
      "======================================================================\n",
      "敲声\n",
      "(0.4235294117647059, {'沉闷': [1, 3, 8, 13, 16], '浊响': [0, 2, 4, 5, 6, 7, 11, 12, 14, 15], '清脆': [9, 10]})\n",
      "======================================================================\n",
      "纹理\n",
      "(0.2771241830065359, {'模糊': [10, 11, 15], '稍糊': [6, 8, 12, 13, 16], '清晰': [0, 1, 2, 3, 4, 5, 7, 9, 14]})\n",
      "======================================================================\n",
      "脐部\n",
      "(0.3445378151260504, {'凹陷': [0, 1, 2, 3, 4, 12, 13], '稍凹': [5, 6, 7, 8, 14, 16], '平坦': [9, 10, 11, 15]})\n",
      "======================================================================\n",
      "触感\n",
      "(0.49411764705882355, {'软粘': [5, 6, 9, 11, 14], '硬滑': [0, 1, 2, 3, 4, 7, 8, 10, 12, 13, 15, 16]})\n"
     ]
    }
   ],
   "source": [
    "for inx, name in enumerate(column_name_list):\n",
    "    print(\"=\"*70)\n",
    "    print(name)\n",
    "    print(gini_index(data_origin_X, data_origin_Y, inx))"
   ]
  },
  {
   "cell_type": "markdown",
   "metadata": {},
   "source": [
    "### 3. 生成完整决策树"
   ]
  },
  {
   "cell_type": "markdown",
   "metadata": {},
   "source": [
    "#### 3.1 构建树结构"
   ]
  },
  {
   "cell_type": "code",
   "execution_count": 51,
   "metadata": {},
   "outputs": [],
   "source": [
    "class TreeNode(object):\n",
    "    \"\"\" Generic tree node.\n",
    "    \"\"\"\n",
    "    \n",
    "    def __init__(self, feature_name, condition, is_result=False, children=None):\n",
    "        \"\"\" 初始化决策树\n",
    "        \n",
    "        arguments:\n",
    "        ----------\n",
    "        feature_name: String, feature name\n",
    "        condition: tuple, (condition, value), partition condition\n",
    "        \"\"\"\n",
    "        self.feature_name = feature_name\n",
    "        self.condition = condition\n",
    "        self.is_result = is_result\n",
    "        self.children = []\n",
    "        \n",
    "        if children is not None:\n",
    "            for child in children:\n",
    "                self.add_child(child)\n",
    "    \n",
    "    def add_child(self, node):\n",
    "        \"\"\" 添加分支结点\n",
    "        \"\"\"\n",
    "        assert isinstance(node, TreeNode)\n",
    "        self.children.append(node)"
   ]
  },
  {
   "cell_type": "code",
   "execution_count": 52,
   "metadata": {},
   "outputs": [],
   "source": [
    "# 根节点\n",
    "root_node = TreeNode(\"脐部\", None)\n",
    "\n",
    "# 第一层几点\n",
    "aoxian_node = TreeNode(\"色泽\", (\"=\", \"凹陷\"))\n",
    "shaoao_node = TreeNode(\"根蒂\", (\"=\", \"稍凹\"))\n",
    "pingtan_node = TreeNode(\"坏瓜\", (\"=\", \"平坦\"), is_result=True)\n",
    "    \n",
    "root_node.add_child(aoxian_node)\n",
    "root_node.add_child(shaoao_node)\n",
    "root_node.add_child(pingtan_node)"
   ]
  },
  {
   "cell_type": "markdown",
   "metadata": {},
   "source": [
    "#### 3.2 根据树结构，绘制决策树图"
   ]
  },
  {
   "cell_type": "code",
   "execution_count": 5,
   "metadata": {},
   "outputs": [],
   "source": [
    "import matplotlib.pyplot as plt\n",
    "\n",
    "#定义文本框和箭头格式\n",
    "decisionNode = dict(boxstyle=\"sawtooth\", fc=\"0.8\")\n",
    "leafNode = dict(boxstyle=\"round4\", fc=\"0.8\")\n",
    "arrow_args = dict(arrowstyle=\"<-\")\n",
    "\n",
    "def plotNode(nodeTxt, centerPt, parentPt, nodeType):\n",
    "    \"\"\"\n",
    "    Function：   绘制带箭头的注解\n",
    "\n",
    "    Args：       nodeTxt：文本注解\n",
    "                centerPt：箭头终点坐标\n",
    "                parentPt：箭头起始坐标\n",
    "                nodeType：文本框类型\n",
    "\n",
    "    Returns：    无\n",
    "    \"\"\"\n",
    "    #在全局变量createPlot0.ax1中绘图\n",
    "    createPlot0.ax1.annotate(nodeTxt, xy=parentPt,  xycoords='axes fraction',\n",
    "             xytext=centerPt, textcoords='axes fraction',\n",
    "             va=\"center\", ha=\"center\", bbox=nodeType, arrowprops=arrow_args )\n",
    "\n",
    "def createPlot0():\n",
    "    \"\"\"\n",
    "    Function：   使用文本注解绘制树节点\n",
    "\n",
    "    Args：       无\n",
    "\n",
    "    Returns：    无\n",
    "    \"\"\"\n",
    "    #创建一个新图形\n",
    "    fig = plt.figure(1, facecolor='white')\n",
    "    #清空绘图区\n",
    "    fig.clf()\n",
    "    #给全局变量createPlot0.ax1赋值\n",
    "    createPlot0.ax1 = plt.subplot(111, frameon=False) #ticks for demo puropses \n",
    "    #绘制第一个文本注解\n",
    "    plotNode('a decision node', (0.5, 0.1), (0.1, 0.5), decisionNode)\n",
    "    #绘制第二个文本注解\n",
    "    plotNode('a leaf node', (0.8, 0.1), (0.3, 0.8), leafNode)\n",
    "    #显示最终绘制结果\n",
    "    plt.show()"
   ]
  },
  {
   "cell_type": "code",
   "execution_count": 4,
   "metadata": {},
   "outputs": [
    {
     "data": {
      "image/png": "[encoded data removed]",
      "text/plain": [
       "<Figure size 432x288 with 1 Axes>"
      ]
     },
     "metadata": {},
     "output_type": "display_data"
    }
   ],
   "source": [
    "createPlot0()"
   ]
  },
  {
   "cell_type": "markdown",
   "metadata": {},
   "source": [
    "#### 3.3 生成完整决策树"
   ]
  },
  {
   "cell_type": "code",
   "execution_count": null,
   "metadata": {},
   "outputs": [],
   "source": []
  },
  {
   "cell_type": "markdown",
   "metadata": {},
   "source": [
    "#### 3.4 绘制生成的完整决策树"
   ]
  },
  {
   "cell_type": "code",
   "execution_count": null,
   "metadata": {},
   "outputs": [],
   "source": []
  },
  {
   "cell_type": "code",
   "execution_count": null,
   "metadata": {},
   "outputs": [],
   "source": []
  },
  {
   "cell_type": "markdown",
   "metadata": {},
   "source": [
    "### 4. 剪枝处理"
   ]
  },
  {
   "cell_type": "markdown",
   "metadata": {},
   "source": [
    "#### 4.1 预剪枝"
   ]
  },
  {
   "cell_type": "code",
   "execution_count": null,
   "metadata": {},
   "outputs": [],
   "source": []
  },
  {
   "cell_type": "markdown",
   "metadata": {},
   "source": [
    "#### 4.2 后剪枝"
   ]
  },
  {
   "cell_type": "code",
   "execution_count": null,
   "metadata": {},
   "outputs": [],
   "source": []
  },
  {
   "cell_type": "code",
   "execution_count": null,
   "metadata": {},
   "outputs": [],
   "source": []
  },
  {
   "cell_type": "code",
   "execution_count": null,
   "metadata": {},
   "outputs": [],
   "source": []
  }
 ],
 "metadata": {
  "kernelspec": {
   "display_name": "Python 3",
   "language": "python",
   "name": "python3"
  },
  "language_info": {
   "codemirror_mode": {
    "name": "ipython",
    "version": 3
   },
   "file_extension": ".py",
   "mimetype": "text/x-python",
   "name": "python",
   "nbconvert_exporter": "python",
   "pygments_lexer": "ipython3",
   "version": "3.6.5"
  }
 },
 "nbformat": 4,
 "nbformat_minor": 2
}
