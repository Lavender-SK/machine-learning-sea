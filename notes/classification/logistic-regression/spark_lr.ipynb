{
 "cells": [
  {
   "cell_type": "markdown",
   "metadata": {},
   "source": [
    "### 1. 创建模拟数据集"
   ]
  },
  {
   "cell_type": "code",
   "execution_count": 1,
   "metadata": {},
   "outputs": [
    {
     "data": {
      "image/png": "[encoded data removed]",
      "text/plain": [
       "<Figure size 432x288 with 1 Axes>"
      ]
     },
     "metadata": {
      "needs_background": "light"
     },
     "output_type": "display_data"
    }
   ],
   "source": [
    "from matplotlib import pyplot as plt\n",
    "%matplotlib inline\n",
    "\n",
    "from sklearn.datasets.samples_generator import make_blobs\n",
    "\n",
    "# generate 2d classification dataset\n",
    "X, Y = make_blobs(n_samples=90, centers=2, n_features=2, random_state=0)\n",
    "# Y = Y.reshape(-1, 1)\n",
    "\n",
    "# scatter plot, dots colored by class value\n",
    "colors = {0:'red', 1:'blue', 2:'green'}\n",
    "\n",
    "plt.scatter(X[:,0], X[:,1], c=[colors[i] for i in Y])\n",
    "\n",
    "plt.show()"
   ]
  },
  {
   "cell_type": "markdown",
   "metadata": {},
   "source": [
    "### 2. spark 读取 numpy 数据"
   ]
  },
  {
   "cell_type": "code",
   "execution_count": 27,
   "metadata": {},
   "outputs": [
    {
     "name": "stdout",
     "output_type": "stream",
     "text": [
      "+-----+----------------------------------------+\n",
      "|label|features                                |\n",
      "+-----+----------------------------------------+\n",
      "|1    |[2.6693468917789582,1.8198703315044638] |\n",
      "|1    |[1.0550521740433132,-0.6471074368396748]|\n",
      "|1    |[0.5640099287272724,1.3370553612024738] |\n",
      "|1    |[2.7275622784453133,1.3051254961790473] |\n",
      "|0    |[3.2460247025341027,2.8494216528496255] |\n",
      "+-----+----------------------------------------+\n",
      "only showing top 5 rows\n",
      "\n"
     ]
    }
   ],
   "source": [
    "import numpy as np\n",
    "from pyspark.ml.linalg import Vectors\n",
    "from pyspark.ml.classification import LogisticRegression\n",
    "\n",
    "df = np.concatenate((Y.reshape(-1,1), X), axis=1)\n",
    "dff = map(lambda x: (int(x[0]), Vectors.dense(x[1:])), df)\n",
    "\n",
    "training = spark.createDataFrame(dff, schema=[\"label\", \"features\"])\n",
    "\n",
    "training.show(5, truncate=False)"
   ]
  },
  {
   "cell_type": "markdown",
   "metadata": {},
   "source": [
    "### 3. spark logistic regression"
   ]
  },
  {
   "cell_type": "markdown",
   "metadata": {},
   "source": [
    "#### 3.1 模型创建"
   ]
  },
  {
   "cell_type": "code",
   "execution_count": 72,
   "metadata": {},
   "outputs": [
    {
     "name": "stdout",
     "output_type": "stream",
     "text": [
      "Coefficients: [0.47282885762546734,-2.2916297282434432]\n",
      "Intercept: 5.595001120418728\n"
     ]
    }
   ],
   "source": [
    "# regParam 正则项参数(相当于 λ)\n",
    "lr = LogisticRegression(maxIter=200, regParam=0.01, elasticNetParam=0.8) \n",
    "\n",
    "lrModel = lr.fit(training)\n",
    "\n",
    "print(\"Coefficients: \" + str(lrModel.coefficients))\n",
    "print(\"Intercept: \" + str(lrModel.intercept))\n"
   ]
  },
  {
   "cell_type": "markdown",
   "metadata": {},
   "source": [
    "#### 3.2 训练误差"
   ]
  },
  {
   "cell_type": "code",
   "execution_count": 67,
   "metadata": {
    "scrolled": false
   },
   "outputs": [
    {
     "data": {
      "text/html": [
       "<div>\n",
       "<style scoped>\n",
       "    .dataframe tbody tr th:only-of-type {\n",
       "        vertical-align: middle;\n",
       "    }\n",
       "\n",
       "    .dataframe tbody tr th {\n",
       "        vertical-align: top;\n",
       "    }\n",
       "\n",
       "    .dataframe thead th {\n",
       "        text-align: right;\n",
       "    }\n",
       "</style>\n",
       "<table border=\"1\" class=\"dataframe\">\n",
       "  <thead>\n",
       "    <tr style=\"text-align: right;\">\n",
       "      <th></th>\n",
       "      <th>label</th>\n",
       "      <th>prediction</th>\n",
       "    </tr>\n",
       "  </thead>\n",
       "  <tbody>\n",
       "    <tr>\n",
       "      <th>0</th>\n",
       "      <td>1</td>\n",
       "      <td>1.0</td>\n",
       "    </tr>\n",
       "    <tr>\n",
       "      <th>1</th>\n",
       "      <td>1</td>\n",
       "      <td>1.0</td>\n",
       "    </tr>\n",
       "    <tr>\n",
       "      <th>2</th>\n",
       "      <td>1</td>\n",
       "      <td>1.0</td>\n",
       "    </tr>\n",
       "    <tr>\n",
       "      <th>3</th>\n",
       "      <td>1</td>\n",
       "      <td>1.0</td>\n",
       "    </tr>\n",
       "    <tr>\n",
       "      <th>4</th>\n",
       "      <td>0</td>\n",
       "      <td>0.0</td>\n",
       "    </tr>\n",
       "  </tbody>\n",
       "</table>\n",
       "</div>"
      ],
      "text/plain": [
       "   label  prediction\n",
       "0      1         1.0\n",
       "1      1         1.0\n",
       "2      1         1.0\n",
       "3      1         1.0\n",
       "4      0         0.0"
      ]
     },
     "execution_count": 67,
     "metadata": {},
     "output_type": "execute_result"
    }
   ],
   "source": [
    "prediction = lrModel.transform(training)\n",
    "tran_error = prediction.select(\"label\", \"prediction\").toPandas()  \n",
    "tran_error.head()"
   ]
  },
  {
   "cell_type": "code",
   "execution_count": 84,
   "metadata": {},
   "outputs": [
    {
     "data": {
      "text/plain": [
       "0.9333333333333333"
      ]
     },
     "execution_count": 84,
     "metadata": {},
     "output_type": "execute_result"
    }
   ],
   "source": [
    "# 训练精度\n",
    "tran_error.apply(lambda x: x[\"label\"] == x[\"prediction\"], axis=1).values.sum() / len(Y)"
   ]
  },
  {
   "cell_type": "markdown",
   "metadata": {},
   "source": [
    "### 4. 分界线展现"
   ]
  },
  {
   "cell_type": "code",
   "execution_count": 85,
   "metadata": {},
   "outputs": [
    {
     "data": {
      "text/plain": [
       "[(-5, 5), Text(0, 0.5, '$X_2$'), (-5, 5), Text(0.5, 0, '$X_1$'), None]"
      ]
     },
     "execution_count": 85,
     "metadata": {},
     "output_type": "execute_result"
    },
    {
     "data": {
      "image/png": "[encoded data removed]",
      "text/plain": [
       "<Figure size 576x432 with 2 Axes>"
      ]
     },
     "metadata": {
      "needs_background": "light"
     },
     "output_type": "display_data"
    }
   ],
   "source": [
    "xx, yy = np.mgrid[-5:5:.01, -5:5:.01] \n",
    "grid = np.c_[xx.ravel(), yy.ravel()] \n",
    "\n",
    "test_dff = map(lambda x: (0, Vectors.dense(x)), grid) \n",
    "test_training = spark.createDataFrame(test_dff, schema=[\"label\", \"features\"]) \n",
    "test_prediction = lrModel.transform(test_training) \n",
    "\n",
    "probs = test_prediction.select(\"prediction\").toPandas().values \n",
    "probs = probs.reshape(xx.shape) \n",
    "\n",
    "f, ax = plt.subplots(figsize=(8, 6)) \n",
    "contour = ax.contourf(xx, yy, probs, 25, cmap=\"RdBu\", vmin=0, vmax=1) \n",
    "ax_c = f.colorbar(contour) \n",
    "ax_c.set_label(\"$P(y = 1)$\") \n",
    "ax_c.set_ticks([0, .25, .5, .75, 1]) \n",
    "\n",
    "ax.scatter(X[:,0], X[:, 1], c=Y, s=50, \n",
    "           cmap=\"RdBu\", vmin=-.2, vmax=1.2, \n",
    "           edgecolor=\"white\", linewidth=1) \n",
    "\n",
    "ax.set(aspect=\"equal\", \n",
    "       xlim=(-5, 5), ylim=(-5, 5), \n",
    "       xlabel=\"$X_1$\", ylabel=\"$X_2$\") "
   ]
  }
 ],
 "metadata": {
  "kernelspec": {
   "display_name": "Python 3",
   "language": "python",
   "name": "python3"
  },
  "language_info": {
   "codemirror_mode": {
    "name": "ipython",
    "version": 3
   },
   "file_extension": ".py",
   "mimetype": "text/x-python",
   "name": "python",
   "nbconvert_exporter": "python",
   "pygments_lexer": "ipython3",
   "version": "3.6.6"
  }
 },
 "nbformat": 4,
 "nbformat_minor": 2
}
