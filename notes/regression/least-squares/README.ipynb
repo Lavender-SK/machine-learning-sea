{
 "cells": [
  {
   "cell_type": "markdown",
   "metadata": {},
   "source": [
    "minimize \n",
    "\n",
    "$$J(\\theta)=\\sum_{i=1}^{m}{\\omega^{(i)}(y^{(i)-\\theta^{(T)}x^{(i)}})^{2}}$$\n",
    "\n",
    "\n",
    "$$\\frac{\\partial{J(\\theta)}}{\\partial{\\theta_{i}}}=$$\n"
   ]
  }
 ],
 "metadata": {
  "kernelspec": {
   "display_name": "Python 2",
   "language": "python",
   "name": "python2"
  },
  "language_info": {
   "codemirror_mode": {
    "name": "ipython",
    "version": 2
   },
   "file_extension": ".py",
   "mimetype": "text/x-python",
   "name": "python",
   "nbconvert_exporter": "python",
   "pygments_lexer": "ipython2",
   "version": "2.7.13"
  }
 },
 "nbformat": 4,
 "nbformat_minor": 2
}
