{
 "cells": [
  {
   "cell_type": "markdown",
   "metadata": {},
   "source": [
    "### 1. 创造模拟数据集"
   ]
  },
  {
   "cell_type": "code",
   "execution_count": 115,
   "metadata": {},
   "outputs": [
    {
     "data": {
      "image/png": "[encoded data removed]",
      "text/plain": [
       "<Figure size 432x288 with 1 Axes>"
      ]
     },
     "metadata": {},
     "output_type": "display_data"
    }
   ],
   "source": [
    "import pandas as pd\n",
    "from matplotlib import pyplot\n",
    "from sklearn.datasets.samples_generator import make_blobs\n",
    "\n",
    "% matplotlib inline\n",
    "\n",
    "# generate 2d classification dataset\n",
    "X, y = make_blobs(n_samples=250, centers=5, n_features=2)\n",
    "\n",
    "# scatter plot, dots colored by class value\n",
    "df = pd.DataFrame(dict(x=X[:,0], y=X[:,1], label=y))\n",
    "colors = {0:'red', 1:'blue', 2:\"green\", 3:\"purple\", 4:\"orange\"}\n",
    "fig, ax = pyplot.subplots()\n",
    "grouped = df.groupby('label')\n",
    "for key, group in grouped:\n",
    "    group.plot(ax=ax, kind='scatter', x='x', y='y', label=key, color=colors[key])\n",
    "pyplot.show()"
   ]
  },
  {
   "cell_type": "markdown",
   "metadata": {},
   "source": [
    "### 2. 编写 k-means 算法"
   ]
  },
  {
   "cell_type": "code",
   "execution_count": 11,
   "metadata": {},
   "outputs": [
    {
     "data": {
      "text/plain": [
       "array([[0.51041381, 0.86705499, 0.93396588],\n",
       "       [0.59028346, 0.21591894, 0.72433418],\n",
       "       [0.30027405, 0.9771065 , 0.70656654]])"
      ]
     },
     "execution_count": 11,
     "metadata": {},
     "output_type": "execute_result"
    }
   ],
   "source": [
    "import numpy as np\n",
    "a = np.random.rand(3,3)\n",
    "a"
   ]
  },
  {
   "cell_type": "code",
   "execution_count": 30,
   "metadata": {},
   "outputs": [
    {
     "data": {
      "text/plain": [
       "array([[0.51041381, 0.86705499, 0.93396588],\n",
       "       [0.30027405, 0.9771065 , 0.70656654]])"
      ]
     },
     "execution_count": 30,
     "metadata": {},
     "output_type": "execute_result"
    }
   ],
   "source": [
    "import numpy as np\n",
    "\n",
    "inx = np.random.choice(len(a), 2, replace=False)\n",
    "\n",
    "a[inx]\n"
   ]
  },
  {
   "cell_type": "code",
   "execution_count": 179,
   "metadata": {},
   "outputs": [],
   "source": [
    "import numpy as np\n",
    "\n",
    "class KMeans(object):\n",
    "    def __init__(self, class_num, max_iter=300):\n",
    "        \"\"\" 初始化算法参数\n",
    "        \n",
    "        arguments:\n",
    "        ----------\n",
    "        class_num : int, 聚类个数\n",
    "        \"\"\"\n",
    "        self._class_num = class_num\n",
    "        self._max_iter = max_iter\n",
    "        self._labels = np.array(range(class_num))\n",
    "        self._centers = None\n",
    "    \n",
    "    def _init(self, X):\n",
    "        \"\"\" 初始化各个类簇的中心点\n",
    "        随机选择 class_num 个点作为聚类中心\n",
    "        \"\"\"\n",
    "        inx = np.random.choice(len(X), self._class_num, replace=False)\n",
    "        self._centers = np.array(X)[inx]\n",
    "    \n",
    "    def _cal_division(self, X):\n",
    "        \"\"\" 根据各个类簇的中心点， 计算划分\n",
    "        \"\"\"\n",
    "        # 扩展 X, 形式 [x1, x1, ... x1, x2, x2, ...., xm, ...xm]\n",
    "        repeat_X = np.repeat(X, self._class_num, axis=0)\n",
    "        # 扩展 self._centers, 形式 [u1, u2,..uk, u1, u2, ..uk, ... , u1, u2, ..., uk]\n",
    "        repeat_centers = np.tile(self._centers, [len(X), 1])\n",
    "        # 计算欧式距离\n",
    "        euclidean_distance = np.sqrt(np.sum((repeat_X - repeat_centers) * (repeat_X - repeat_centers), axis=1))\n",
    "        # 进行划分\n",
    "        reshape_ed = np.reshape(euclidean_distance, [len(X), self._class_num])\n",
    "        return np.argmin(reshape_ed, axis=1)\n",
    "    \n",
    "    def _update_centers(self, X, labels):\n",
    "        \"\"\" 根据划分，重新更新各个类错的中心点\n",
    "        \"\"\"\n",
    "        for inx in self._labels:\n",
    "            # 获取属于 inx 的样本\n",
    "            X_inx = X[labels==inx]\n",
    "            # 计算 inx 类标记的类中心\n",
    "            self._centers[inx] = np.mean(X_inx, axis=0)\n",
    "            \n",
    "    def fit(self, X):\n",
    "        \"\"\" 对样本集合 X 进行聚类\n",
    "        arguments:\n",
    "        ----------\n",
    "        X: numpy shape = (n_sample, n_feature)\n",
    "        \"\"\"\n",
    "        # 初始化\n",
    "        self._init(X)\n",
    "        \n",
    "        # 迭代 1000 次\n",
    "        for i in range(self._max_iter):\n",
    "            labels = self._cal_division(X)\n",
    "            self._update_centers(X, labels)\n",
    "    \n",
    "    def predict(self, X):\n",
    "        \"\"\" 对样本集合进行预测\n",
    "        arguments:\n",
    "        ----------\n",
    "        X: numpy shape = (n_sample, n_feature)\n",
    "        \n",
    "        returns:\n",
    "        --------\n",
    "        labels: numpy, shape=(n_sample, 1)\n",
    "        \"\"\"\n",
    "        return self._cal_division(X)\n",
    "        "
   ]
  },
  {
   "cell_type": "code",
   "execution_count": 180,
   "metadata": {},
   "outputs": [
    {
     "data": {
      "text/plain": [
       "0.13828086853027344"
      ]
     },
     "execution_count": 180,
     "metadata": {},
     "output_type": "execute_result"
    }
   ],
   "source": [
    "import time\n",
    "k_means = KMeans(class_num=5)\n",
    "\n",
    "tic = time.time()\n",
    "k_means.fit(X)\n",
    "toc = time.time()\n",
    "\n",
    "toc - tic"
   ]
  },
  {
   "cell_type": "code",
   "execution_count": 181,
   "metadata": {},
   "outputs": [
    {
     "data": {
      "text/plain": [
       "array([[ 0.47424745, -9.8260732 ],\n",
       "       [-8.98196286,  4.02170834],\n",
       "       [ 1.33314782, -7.69113145],\n",
       "       [ 7.58629668, -4.18669677],\n",
       "       [ 4.7747446 ,  2.33780802]])"
      ]
     },
     "execution_count": 181,
     "metadata": {},
     "output_type": "execute_result"
    }
   ],
   "source": [
    "k_means._centers"
   ]
  },
  {
   "cell_type": "code",
   "execution_count": 182,
   "metadata": {},
   "outputs": [
    {
     "data": {
      "image/png": "[encoded data removed]",
      "text/plain": [
       "<Figure size 432x288 with 1 Axes>"
      ]
     },
     "metadata": {},
     "output_type": "display_data"
    }
   ],
   "source": [
    "y = k_means.predict(X)\n",
    "df = pd.DataFrame(dict(x=X[:,0], y=X[:,1], label=y))\n",
    "colors = {0:'red', 1:'blue', 2:\"green\", 3:\"purple\", 4:\"orange\"}\n",
    "fig, ax = pyplot.subplots()\n",
    "grouped = df.groupby('label')\n",
    "for key, group in grouped:\n",
    "    group.plot(ax=ax, kind='scatter', x='x', y='y', label=key, color=colors[key])\n",
    "pyplot.show()"
   ]
  }
 ],
 "metadata": {
  "kernelspec": {
   "display_name": "Python 3",
   "language": "python",
   "name": "python3"
  },
  "language_info": {
   "codemirror_mode": {
    "name": "ipython",
    "version": 3
   },
   "file_extension": ".py",
   "mimetype": "text/x-python",
   "name": "python",
   "nbconvert_exporter": "python",
   "pygments_lexer": "ipython3",
   "version": "3.6.5"
  }
 },
 "nbformat": 4,
 "nbformat_minor": 2
}
