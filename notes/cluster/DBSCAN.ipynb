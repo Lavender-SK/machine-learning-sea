{
 "cells": [
  {
   "cell_type": "markdown",
   "metadata": {},
   "source": [
    "### 1. 载入数据"
   ]
  },
  {
   "cell_type": "code",
   "execution_count": 11,
   "metadata": {},
   "outputs": [],
   "source": [
    "import numpy as np\n",
    "\n",
    "data_list = []\n",
    "\n",
    "with open(\"22830134_latitude_longitude.txt\", \"r\") as f:\n",
    "    for line in f.readlines():\n",
    "        data_list.append([float(i) for i in line.split()])\n",
    "\n",
    "X = np.array(data_list)"
   ]
  },
  {
   "cell_type": "markdown",
   "metadata": {},
   "source": [
    "### 2. sklearn dbscan"
   ]
  },
  {
   "cell_type": "markdown",
   "metadata": {},
   "source": [
    "#### 2.1 fit"
   ]
  },
  {
   "cell_type": "code",
   "execution_count": 170,
   "metadata": {},
   "outputs": [
    {
     "data": {
      "text/plain": [
       "array([[231],\n",
       "       [299]])"
      ]
     },
     "execution_count": 170,
     "metadata": {},
     "output_type": "execute_result"
    }
   ],
   "source": [
    "from sklearn.cluster import DBSCAN\n",
    "\n",
    "clustering = DBSCAN(eps=3, min_samples=2).fit(X)\n",
    "\n",
    "np.argwhere(clustering.labels_ == 1)\n"
   ]
  },
  {
   "cell_type": "markdown",
   "metadata": {},
   "source": [
    "#### 2.2 predict"
   ]
  },
  {
   "cell_type": "code",
   "execution_count": 57,
   "metadata": {
    "scrolled": true
   },
   "outputs": [
    {
     "data": {
      "text/plain": [
       "{'a': array([ 31.20870031, 121.59304649]),\n",
       " 'b': array([ 36.6565035, 118.3938755])}"
      ]
     },
     "execution_count": 57,
     "metadata": {},
     "output_type": "execute_result"
    }
   ],
   "source": [
    "mean_position_a = np.mean(X[clustering.labels_ == 0], axis=0)\n",
    "mean_position_b = np.mean(X[clustering.labels_ == 1], axis=0)\n",
    "\n",
    "{\"a\": mean_position_a, \"b\": mean_position_b}"
   ]
  },
  {
   "cell_type": "markdown",
   "metadata": {},
   "source": [
    "### 3. dbscan class"
   ]
  },
  {
   "cell_type": "code",
   "execution_count": 174,
   "metadata": {},
   "outputs": [],
   "source": [
    "class DBSCAN(object):\n",
    "    def __init__(self, eps=0.5, min_samples=5):\n",
    "        \"\"\" 初始化\n",
    "        \n",
    "        arguments:\n",
    "        ----------\n",
    "        eps: float\n",
    "        min_sample: int\n",
    "        \"\"\"\n",
    "        self._eps = eps\n",
    "        self._min_samples = min_samples\n",
    "        self._labels = None\n",
    "    \n",
    "    def fit(self, X):\n",
    "        \"\"\" 预测\n",
    "        \"\"\"\n",
    "        # 样本X的尺寸\n",
    "        samples_num, features_num = X.shape\n",
    "        \n",
    "        # 两两之间计算距离, 同时寻找核心对象集合\n",
    "        core_points_list = []\n",
    "        mutual_distance = np.zeros((samples_num, samples_num))\n",
    "        neighbor_flag = np.zeros((samples_num, samples_num))\n",
    "        for inx, x in enumerate(X):\n",
    "            pos = np.sqrt(np.sum((x - X) * (x - X), axis=1))\n",
    "            mutual_distance[inx] = pos\n",
    "            neighbor_flag[inx] = pos < self._eps\n",
    "            if np.sum(pos < self._eps) >= self._min_samples:\n",
    "                core_points_list.append(inx)\n",
    "        \n",
    "        # 以任意核心对象为出发点，找到由其密度可达的样本生成样本簇\n",
    "        labels = 0\n",
    "        already_point_set = set() # 存储已经遍历过的点\n",
    "        self._labels = np.ones(samples_num) * (-1)\n",
    "        while len(core_points_list) != 0:\n",
    "            # 随机选择一个核心对象加入到 queue 中，以它为出发点，寻找密度可达的样本\n",
    "            queue = [] # 遍历时使用的队列\n",
    "            class_list = [] # 将密度可达的样本存放进去，形成一类簇\n",
    "            core_point = int(np.random.choice(core_points_list, 1)) # 随机选择一个核心对象\n",
    "            queue.append(core_point) # 将核心对象添加进入队列中，准备遍历\n",
    "            core_points_list.remove(core_point) # 将该核心对象删除掉\n",
    "            \n",
    "            while len(queue) != 0:\n",
    "                point = queue.pop(0)\n",
    "                class_list.append(point)\n",
    "                already_point_set.add(point)\n",
    "                \n",
    "                # 寻找从 point 出发密度直达的点\n",
    "                neighbor_point = list(np.argwhere(neighbor_flag[point] == 1).squeeze())\n",
    "                # 去除掉已经遍历过的点\n",
    "                retD = list(set(neighbor_point).difference(already_point_set))\n",
    "                # 将这些点添加进入类簇列表中\n",
    "                class_list.extend(retD)\n",
    "                # 将这些点添加进已经遍历过的集合中\n",
    "                already_point_set = already_point_set.union(set(retD))\n",
    "                # 将找到的点中，属于核心对象的点，存放到 queue 中\n",
    "                for i in retD:\n",
    "                    if i in core_points_list:\n",
    "                        queue.append(i)\n",
    "                        core_points_list.remove(i)\n",
    "                \n",
    "            # 将找好的一类归类\n",
    "            self._labels[class_list] = labels\n",
    "            labels = labels + 1"
   ]
  },
  {
   "cell_type": "code",
   "execution_count": 175,
   "metadata": {},
   "outputs": [
    {
     "data": {
      "text/plain": [
       "array([[231],\n",
       "       [299]])"
      ]
     },
     "execution_count": 175,
     "metadata": {},
     "output_type": "execute_result"
    }
   ],
   "source": [
    "dbscan = DBSCAN(eps=3, min_samples=2)\n",
    "dbscan.fit(X)\n",
    "np.argwhere(dbscan._labels == 1)"
   ]
  },
  {
   "cell_type": "code",
   "execution_count": 176,
   "metadata": {},
   "outputs": [
    {
     "data": {
      "text/plain": [
       "{'a': array([ 31.20870031, 121.59304649]),\n",
       " 'b': array([ 36.6565035, 118.3938755])}"
      ]
     },
     "execution_count": 176,
     "metadata": {},
     "output_type": "execute_result"
    }
   ],
   "source": [
    "mean_position_a = np.mean(X[dbscan._labels == 0], axis=0)\n",
    "mean_position_b = np.mean(X[dbscan._labels == 1], axis=0)\n",
    "\n",
    "{\"a\": mean_position_a, \"b\": mean_position_b}"
   ]
  },
  {
   "cell_type": "markdown",
   "metadata": {},
   "source": [
    "### 4. baidu map api"
   ]
  },
  {
   "cell_type": "code",
   "execution_count": 185,
   "metadata": {},
   "outputs": [
    {
     "name": "stdout",
     "output_type": "stream",
     "text": [
      "renderReverse&&renderReverse({\"status\":0,\"result\":{\"location\":{\"lng\":121.59304648999994,\"lat\":31.208700173642275},\"formatted_address\":\"上海市浦东新区松涛路696号\",\"business\":\"张江\",\"addressComponent\":{\"country\":\"中国\",\"country_code\":0,\"country_code_iso\":\"CHN\",\"country_code_iso2\":\"CN\",\"province\":\"上海市\",\"city\":\"上海市\",\"city_level\":2,\"district\":\"浦东新区\",\"town\":\"\",\"adcode\":\"310115\",\"street\":\"松涛路\",\"street_number\":\"696号\",\"direction\":\"东\",\"distance\":\"63\"},\"pois\":[{\"addr\":\"上海市浦东张江祖冲之路555号\",\"cp\":\"\",\"direction\":\"内\",\"distance\":\"0\",\"name\":\"中国科学院上海药物研究所\",\"poiType\":\"教育培训\",\"point\":{\"x\":121.5936905900105,\"y\":31.20883883922049},\"tag\":\"教育培训;科研机构\",\"tel\":\"\",\"uid\":\"d146b388dfa661df74026945\",\"zip\":\"\",\"parent_poi\":{\"name\":\"\",\"tag\":\"\",\"addr\":\"\",\"point\":{\"x\":0.0,\"y\":0.0},\"direction\":\"\",\"distance\":\"\",\"uid\":\"\"}},{\"addr\":\"上海市浦东新区张江高科技园区中国科学院上海药物研究所\",\"cp\":\" \",\"direction\":\"附近\",\"distance\":\"16\",\"name\":\"生命科学图书馆(浦东分馆)\",\"poiType\":\"教育培训\",\"point\":{\"x\":121.59319652198,\"y\":31.20872301864032},\"tag\":\"教育培训;图书馆\",\"tel\":\"\",\"uid\":\"f4a33da9b9abe3773010af47\",\"zip\":\"\",\"parent_poi\":{\"name\":\"\",\"tag\":\"\",\"addr\":\"\",\"point\":{\"x\":0.0,\"y\":0.0},\"direction\":\"\",\"distance\":\"\",\"uid\":\"\"}},{\"addr\":\" \",\"cp\":\" \",\"direction\":\"西北\",\"distance\":\"155\",\"name\":\"张江高科(地铁站)\",\"poiType\":\" \",\"point\":{\"x\":121.59405889526959,\"y\":31.207873663342157},\"tag\":\" \",\"tel\":\"\",\"uid\":\"ce7fc3ec3431f54d057ce8d9\",\"zip\":\"\",\"parent_poi\":{\"name\":\"\",\"tag\":\"\",\"addr\":\"\",\"point\":{\"x\":0.0,\"y\":0.0},\"direction\":\"\",\"distance\":\"\",\"uid\":\"\"}},{\"addr\":\"上海市浦东新区张江镇松涛路696号\",\"cp\":\" \",\"direction\":\"东\",\"distance\":\"122\",\"name\":\"联想(上海)有限公司\",\"poiType\":\"公司企业\",\"point\":{\"x\":121.59195686037624,\"y\":31.208553148196974},\"tag\":\"公司企业;公司\",\"tel\":\"\",\"uid\":\"91f1aff8dff8862c28d7ab36\",\"zip\":\"\",\"parent_poi\":{\"name\":\"\",\"tag\":\"\",\"addr\":\"\",\"point\":{\"x\":0.0,\"y\":0.0},\"direction\":\"\",\"distance\":\"\",\"uid\":\"\"}},{\"addr\":\"张江商圈\",\"cp\":\" \",\"direction\":\"东南\",\"distance\":\"306\",\"name\":\"张江镇\",\"poiType\":\"行政地标\",\"point\":{\"x\":121.59184008065995,\"y\":31.21082320957472},\"tag\":\"行政地标;乡镇\",\"tel\":\"\",\"uid\":\"23ce2f7d315e50a7a6da397d\",\"zip\":\"\",\"parent_poi\":{\"name\":\"\",\"tag\":\"\",\"addr\":\"\",\"point\":{\"x\":0.0,\"y\":0.0},\"direction\":\"\",\"distance\":\"\",\"uid\":\"\"}},{\"addr\":\"上海市浦东新区松涛路666\",\"cp\":\" \",\"direction\":\"东南\",\"distance\":\"143\",\"name\":\"张江艺术公园-东北门\",\"poiType\":\"出入口\",\"point\":{\"x\":121.59236109785573,\"y\":31.209641857970007},\"tag\":\"出入口;门\",\"tel\":\"\",\"uid\":\"e06633d50ace6473744ff15a\",\"zip\":\"\",\"parent_poi\":{\"name\":\"张江艺术公园\",\"tag\":\"旅游景点;公园\",\"addr\":\"祖冲之路419号(张江地铁口)\",\"point\":{\"x\":121.59051957156028,\"y\":31.209471989193405},\"direction\":\"东\",\"distance\":\"298\",\"uid\":\"e3a7fd1398c21f5329b97cb0\"}},{\"addr\":\"镇中路248弄\",\"cp\":\" \",\"direction\":\"北\",\"distance\":\"160\",\"name\":\"镇中路248弄小区\",\"poiType\":\"房地产\",\"point\":{\"x\":121.59271143700463,\"y\":31.207495311683834},\"tag\":\"房地产;住宅区\",\"tel\":\"\",\"uid\":\"28f2bdfb71a69e784afd3f96\",\"zip\":\"\",\"parent_poi\":{\"name\":\"\",\"tag\":\"\",\"addr\":\"\",\"point\":{\"x\":0.0,\"y\":0.0},\"direction\":\"\",\"distance\":\"\",\"uid\":\"\"}},{\"addr\":\"上海市浦东新区春晓路350号\",\"cp\":\" \",\"direction\":\"东南\",\"distance\":\"298\",\"name\":\"宁波银行(张江支行)\",\"poiType\":\"金融\",\"point\":{\"x\":121.59181313149465,\"y\":31.210745997506757},\"tag\":\"金融;银行\",\"tel\":\"\",\"uid\":\"042035fe858d9e92260bd07c\",\"zip\":\"\",\"parent_poi\":{\"name\":\"\",\"tag\":\"\",\"addr\":\"\",\"point\":{\"x\":0.0,\"y\":0.0},\"direction\":\"\",\"distance\":\"\",\"uid\":\"\"}},{\"addr\":\"松涛路647弄1-16号\",\"cp\":\" \",\"direction\":\"南\",\"distance\":\"248\",\"name\":\"松涛路647弄四期孵化园\",\"poiType\":\"公司企业\",\"point\":{\"x\":121.5934839797432,\"y\":31.210583851956796},\"tag\":\"公司企业;园区\",\"tel\":\"\",\"uid\":\"c165e5988e9e4ee0283a9ff4\",\"zip\":\"\",\"parent_poi\":{\"name\":\"\",\"tag\":\"\",\"addr\":\"\",\"point\":{\"x\":0.0,\"y\":0.0},\"direction\":\"\",\"distance\":\"\",\"uid\":\"\"}},{\"addr\":\"祖冲之路419号(张江地铁口)\",\"cp\":\" \",\"direction\":\"东\",\"distance\":\"298\",\"name\":\"张江艺术公园\",\"poiType\":\"旅游景点\",\"point\":{\"x\":121.59051957156028,\"y\":31.209471989193405},\"tag\":\"旅游景点;公园\",\"tel\":\"\",\"uid\":\"e3a7fd1398c21f5329b97cb0\",\"zip\":\"\",\"parent_poi\":{\"name\":\"\",\"tag\":\"\",\"addr\":\"\",\"point\":{\"x\":0.0,\"y\":0.0},\"direction\":\"\",\"distance\":\"\",\"uid\":\"\"}}],\"roads\":[],\"poiRegions\":[{\"direction_desc\":\"内\",\"name\":\"中国科学院上海药物研究所\",\"tag\":\"教育培训;科研机构\",\"uid\":\"d146b388dfa661df74026945\"}],\"sematic_description\":\"中国科学院上海药物研究所内,生命科学图书馆(浦东分馆)附近16米\",\"cityCode\":289}})\n"
     ]
    }
   ],
   "source": [
    "import requests \n",
    "\n",
    "ak = \"CBqb0vQAWP1WG8TvNyaBGh0DRvQAkZUW\"\n",
    "\n",
    "url = \"http://api.map.baidu.com/geocoder/v2/?callback=renderReverse&location=%s&output=json&pois=1&ak=%s\" % (\"31.20870031,121.59304649\", ak)\n",
    "\n",
    "with requests.Session() as sess:\n",
    "    resp = sess.get(url)\n",
    "    print(resp.text)"
   ]
  },
  {
   "cell_type": "code",
   "execution_count": 186,
   "metadata": {},
   "outputs": [
    {
     "name": "stdout",
     "output_type": "stream",
     "text": [
      "renderReverse&&renderReverse({\"status\":0,\"result\":{\"location\":{\"lng\":118.39387549999992,\"lat\":36.65650341318585},\"formatted_address\":\"山东省潍坊市青州市\",\"business\":\"\",\"addressComponent\":{\"country\":\"中国\",\"country_code\":0,\"country_code_iso\":\"CHN\",\"country_code_iso2\":\"CN\",\"province\":\"山东省\",\"city\":\"潍坊市\",\"city_level\":2,\"district\":\"青州市\",\"town\":\"\",\"adcode\":\"370781\",\"street\":\"\",\"street_number\":\"\",\"direction\":\"\",\"distance\":\"\"},\"pois\":[{\"addr\":\"山东省潍坊市青州市王府街道富班村\",\"cp\":\" \",\"direction\":\"东\",\"distance\":\"766\",\"name\":\"富班村\",\"poiType\":\"行政地标\",\"point\":{\"x\":118.3870543263177,\"y\":36.655757648070437},\"tag\":\"行政地标;村庄\",\"tel\":\"\",\"uid\":\"25ec69fc9974947cc26c1435\",\"zip\":\"\",\"parent_poi\":{\"name\":\"\",\"tag\":\"\",\"addr\":\"\",\"point\":{\"x\":0.0,\"y\":0.0},\"direction\":\"\",\"distance\":\"\",\"uid\":\"\"}},{\"addr\":\"潍坊市青州市三二五省道\",\"cp\":\" \",\"direction\":\"东南\",\"distance\":\"958\",\"name\":\"辛店子村\",\"poiType\":\"行政地标\",\"point\":{\"x\":118.38742263157678,\"y\":36.661091974621609},\"tag\":\"行政地标;村庄\",\"tel\":\"\",\"uid\":\"2a7a25ec3957d3626c3e1b35\",\"zip\":\"\",\"parent_poi\":{\"name\":\"\",\"tag\":\"\",\"addr\":\"\",\"point\":{\"x\":0.0,\"y\":0.0},\"direction\":\"\",\"distance\":\"\",\"uid\":\"\"}}],\"roads\":[],\"poiRegions\":[],\"sematic_description\":\"富班村东766米\",\"cityCode\":287}})\n"
     ]
    }
   ],
   "source": [
    "import requests \n",
    "\n",
    "ak = \"CBqb0vQAWP1WG8TvNyaBGh0DRvQAkZUW\"\n",
    "\n",
    "url = \"http://api.map.baidu.com/geocoder/v2/?callback=renderReverse&location=%s&output=json&pois=1&ak=%s\" % (\"36.6565035, 118.3938755\", ak)\n",
    "\n",
    "with requests.Session() as sess:\n",
    "    resp = sess.get(url)\n",
    "    print(resp.text)"
   ]
  }
 ],
 "metadata": {
  "kernelspec": {
   "display_name": "Python 3",
   "language": "python",
   "name": "python3"
  },
  "language_info": {
   "codemirror_mode": {
    "name": "ipython",
    "version": 3
   },
   "file_extension": ".py",
   "mimetype": "text/x-python",
   "name": "python",
   "nbconvert_exporter": "python",
   "pygments_lexer": "ipython3",
   "version": "3.6.5"
  }
 },
 "nbformat": 4,
 "nbformat_minor": 2
}
