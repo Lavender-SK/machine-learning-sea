{
 "cells": [
  {
   "cell_type": "markdown",
   "metadata": {},
   "source": [
    "### 1. 生成训练用数据集"
   ]
  },
  {
   "cell_type": "code",
   "execution_count": 1,
   "metadata": {},
   "outputs": [
    {
     "data": {
      "image/png": "[encoded data removed]",
      "text/plain": [
       "<Figure size 432x288 with 1 Axes>"
      ]
     },
     "metadata": {},
     "output_type": "display_data"
    }
   ],
   "source": [
    "import pandas as pd\n",
    "from matplotlib import pyplot\n",
    "from sklearn.datasets.samples_generator import make_blobs\n",
    "\n",
    "%matplotlib inline\n",
    "\n",
    "# generate 2d classification dataset\n",
    "X, y = make_blobs(n_samples=150, centers=3, n_features=2)\n",
    "# scatter plot, dots colored by class value\n",
    "df = pd.DataFrame(dict(x=X[:,0], y=X[:,1], label=y))\n",
    "colors = {0:'red', 1:'blue', 2:'green'}\n",
    "fig, ax = pyplot.subplots()\n",
    "grouped = df.groupby('label')\n",
    "for key, group in grouped:\n",
    "    group.plot(ax=ax, kind='scatter', x='x', y='y', label=key, color=colors[key])\n",
    "pyplot.show()"
   ]
  },
  {
   "cell_type": "markdown",
   "metadata": {},
   "source": [
    "### 2. LVQ"
   ]
  },
  {
   "cell_type": "code",
   "execution_count": 2,
   "metadata": {},
   "outputs": [],
   "source": [
    "import numpy as np\n",
    "from collections import Counter\n",
    "\n",
    "class LVQ(object):\n",
    "    def __init__(self, learning_rate, max_iter):\n",
    "        \"\"\" 初始化\n",
    "        \n",
    "        arguments:\n",
    "        ----------\n",
    "        learning_rate: float (0,1)\n",
    "        \"\"\"\n",
    "        self._learning_rate = learning_rate\n",
    "        self._max_iter = max_iter\n",
    "        self._labels = None\n",
    "        self._centers = None\n",
    "        \n",
    "    def _init(self, X, labels, class_labels):\n",
    "        \"\"\" 初始化\n",
    "        \"\"\"\n",
    "        _centers = []\n",
    "        _labels = []\n",
    "        \n",
    "        # 随机选择类中心\n",
    "        labels_cnt = Counter(class_labels)\n",
    "        for key, value in labels_cnt.items():\n",
    "            _labels.extend([str(key)+\"_\"+str(i) for i in range(value)])\n",
    "            inx, = np.where(labels==key)\n",
    "            inx = np.random.choice(inx, value, replace=False)\n",
    "            _centers.extend(X[inx])\n",
    "            \n",
    "        self._labels = np.array(_labels)\n",
    "        self._centers = np.array(_centers)\n",
    "        \n",
    "    def fit(self, X, y, class_labels):\n",
    "        \"\"\" 训练 lvq\n",
    "        \n",
    "        arguments:\n",
    "        ----------\n",
    "        X: list or narray, shape=(n_sample, n_features)\n",
    "        y: labels, list or narray, shape=(n_sample, )\n",
    "        class_labels: given the cluster label\n",
    "        \"\"\"\n",
    "        X = np.array(X)\n",
    "        y = np.array(y)\n",
    "        class_labels = np.array(class_labels)\n",
    "        \n",
    "        # 初始化\n",
    "        self._init(X, y, class_labels)\n",
    "        \n",
    "        # 遍历\n",
    "        for i in range(self._max_iter):\n",
    "            # 随机抽取一个样本\n",
    "            inx = np.random.choice(y, 1, replace=False)\n",
    "            x = X[inx]\n",
    "            yt = y[inx][0]\n",
    "            \n",
    "            # 计算到每个聚类中心的欧式距离\n",
    "            euclidean_distance = np.sqrt(np.sum((x - self._centers) * (x - self._centers), axis=1))\n",
    "            # 寻找最小距离的那个类别\n",
    "            min_labels_inx = np.argmin(euclidean_distance, axis=0)\n",
    "            min_labels = self._labels[min_labels_inx].split(\"_\")[0]\n",
    "            # 更新该类别的聚类中心位置\n",
    "            min_labels_center = self._centers[min_labels_inx]\n",
    "            if str(min_labels) == str(yt):\n",
    "                self._centers[min_labels_inx] = min_labels_center + self._learning_rate * (x - min_labels_center)\n",
    "            else:\n",
    "                self._centers[min_labels_inx] = min_labels_center - self._learning_rate * (x - min_labels_center)\n",
    "                \n",
    "    def predict(self, X):\n",
    "        \"\"\" 预测\n",
    "        \"\"\"\n",
    "        pre_y = []\n",
    "        for x in X:\n",
    "            euclidean_distance = np.sqrt(np.sum((x - self._centers) * (x - self._centers), axis=1))\n",
    "            min_labels_inx = np.argmin(euclidean_distance, axis=0)\n",
    "            pre_y.append(min_labels_inx)\n",
    "            # min_labels = self._labels[min_labels_inx]\n",
    "        return np.array(pre_y)"
   ]
  },
  {
   "cell_type": "code",
   "execution_count": 12,
   "metadata": {},
   "outputs": [],
   "source": [
    "lvq = LVQ(learning_rate=0.5, max_iter=100)\n",
    "lvq.fit(X, y, class_labels=[0,1,2,0,1,2])"
   ]
  },
  {
   "cell_type": "code",
   "execution_count": 16,
   "metadata": {
    "scrolled": false
   },
   "outputs": [
    {
     "data": {
      "image/png": "[encoded data removed]",
      "text/plain": [
       "<Figure size 432x288 with 1 Axes>"
      ]
     },
     "metadata": {},
     "output_type": "display_data"
    }
   ],
   "source": [
    "yy = lvq.predict(X)\n",
    "df = pd.DataFrame(dict(x=X[:,0], y=X[:,1], label=yy))\n",
    "colors = {0:'red', 1:'blue', 2:\"green\", 3:\"purple\", 4:\"orange\", 5:\"black\"}\n",
    "fig, ax = pyplot.subplots()\n",
    "grouped = df.groupby('label')\n",
    "for key, group in grouped:\n",
    "    group.plot(ax=ax, kind='scatter', x='x', y='y', label=key, color=colors[key])\n",
    "pyplot.show()"
   ]
  }
 ],
 "metadata": {
  "kernelspec": {
   "display_name": "Python 3",
   "language": "python",
   "name": "python3"
  },
  "language_info": {
   "codemirror_mode": {
    "name": "ipython",
    "version": 3
   },
   "file_extension": ".py",
   "mimetype": "text/x-python",
   "name": "python",
   "nbconvert_exporter": "python",
   "pygments_lexer": "ipython3",
   "version": "3.6.5"
  }
 },
 "nbformat": 4,
 "nbformat_minor": 2
}
